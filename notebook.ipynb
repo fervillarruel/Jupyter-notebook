{
  "metadata": {
    "language_info": {
      "codemirror_mode": {
        "name": "python",
        "version": 3
      },
      "file_extension": ".py",
      "mimetype": "text/x-python",
      "name": "python",
      "nbconvert_exporter": "python",
      "pygments_lexer": "ipython3",
      "version": "3.8"
    },
    "kernelspec": {
      "name": "python",
      "display_name": "Python (Pyodide)",
      "language": "python"
    }
  },
  "nbformat_minor": 4,
  "nbformat": 4,
  "cells": [
    {
      "cell_type": "markdown",
      "source": "# My Jupyter notebook in Watson Studio",
      "metadata": {}
    },
    {
      "cell_type": "markdown",
      "source": "__Fernando Villarruel__\nPhD student",
      "metadata": {}
    },
    {
      "cell_type": "markdown",
      "source": "_I am interested in data science because I love working with data, organizing and analyzing it. Also, I believe  is a growing work area and it has a great potential for a future._",
      "metadata": {}
    },
    {
      "cell_type": "markdown",
      "source": "### Code for a simple mathemathical operation (sum)",
      "metadata": {}
    },
    {
      "cell_type": "code",
      "source": "10+20",
      "metadata": {
        "trusted": true
      },
      "execution_count": 1,
      "outputs": [
        {
          "execution_count": 1,
          "output_type": "execute_result",
          "data": {
            "text/plain": "30"
          },
          "metadata": {}
        }
      ]
    },
    {
      "cell_type": "markdown",
      "source": "***\nVisit my [Github page](https://github.com/fervillarruel)\n\nThis is part of the IBM data Data science course. This last markdown cell has to include at least 3 of the following :\n* Horizontal rule.\n* Bulleted list.\n* Tables.\n* Hyperlinks.\n* Images.\n* Code/syntax.\n* Highlighting.\n* Blocked quotes.\n* Strikethrough.\n\nThanks!\n![markdown logo](https://www.fullstackpython.com/img/logos/markdown.png)",
      "metadata": {}
    },
    {
      "cell_type": "code",
      "source": "",
      "metadata": {},
      "execution_count": null,
      "outputs": []
    }
  ]
}